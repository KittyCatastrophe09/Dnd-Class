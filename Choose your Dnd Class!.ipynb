{
 "cells": [
  {
   "cell_type": "markdown",
   "id": "1ff91bc7",
   "metadata": {},
   "source": [
    "# Choose your Dnd Class!"
   ]
  },
  {
   "cell_type": "markdown",
   "id": "882c775a",
   "metadata": {},
   "source": [
    "**Natural Language System Code:**\n",
    "\n",
    "[Class Name] (Druid, Bard) is a dnd class.\n",
    "\n",
    "[Attribute] (Strength, Wisdom, etc) is a high stat.\n",
    "\n",
    "[Quirk] (Melee, Ranged, Spellcaster, beginner) is an attribute.\n",
    "\n",
    "A dnd class's attribute is hybrid if a dnd class's attribute is melee and that dnd class's attribute is ranged."
   ]
  },
  {
   "cell_type": "markdown",
   "id": "729f5f5f",
   "metadata": {},
   "source": [
    "**Specifications:**\n",
    "\n",
    "Barbarian's high stats are strength and constitution\n",
    "Bard's high stat is charisma.\n",
    "Cleric's high stat is wisdom.\n",
    "Druid's high stat is wisdom\n",
    "Fighter's high stat is strength.\n",
    "Monk's high stat is dexterity.\n",
    "Paladin's high stat is strength.\n",
    "Ranger's high stat is dexterity.\n",
    "Rogue's high stat is dexterity.\n",
    "Sorcerer's high stat is charisma.\n",
    "Warlock's high stat is charisma.\n",
    "Wizard's high stat is intelligence.\n",
    "Artificer's high stat is intelligence.\n",
    "\n",
    "Barbarian, fighter, rogue, monk, and paladin's attribute is melee.\n",
    "\n",
    "Ranger, Bard, Cleric, Druid, fighter, rogue, warlock, artificer, wizard, and sorcerer's attribute is ranged.\n",
    "\n",
    "Bard, cleric, druid, warlock, artificer, wizard, and sorcerer's attribute is spellcaster.\n",
    "\n",
    "Bard, Cleric, Druid, Paladin, Artificer's attribute is healing.\n",
    "\n",
    "Rogue's attribute is Sneaky.\n",
    "\n",
    "Fighter, Barbarian, Ranger, and Bard's attribute is beginner."
   ]
  },
  {
   "cell_type": "markdown",
   "id": "d27b6857",
   "metadata": {},
   "source": [
    "**Goal of the code:**\n",
    "\n",
    "Things you could require or want are:\n",
    "Strength, Dexterity, Constitution, Intelligence, Wisdom, Charisma\n",
    "Melee, Ranged, Hybrid, Spellcaster, Healing, Sneaky, Beginner\n",
    "More details are in the data section of the code.\n",
    "You can write your rules like \"X is required.\", Where X is anything from the above lists. For example, uncomment the following 2 lines and you should get Bard\n",
    "Beginner is required.\n",
    "Charisma is required."
   ]
  },
  {
   "cell_type": "code",
   "execution_count": 51,
   "id": "34a74b3a",
   "metadata": {},
   "outputs": [],
   "source": [
    "#My approach is to create an array of attributes under each class \n",
    "#so it is easier to work with and I don't have to define a bunch of objects."
   ]
  },
  {
   "cell_type": "code",
   "execution_count": 52,
   "id": "51fa92e0",
   "metadata": {},
   "outputs": [
    {
     "name": "stdout",
     "output_type": "stream",
     "text": [
      "           Strength  Dexterity  Constitution  Intelligence  Wisdom  Charisma  \\\n",
      "Bard          False      False         False         False   False      True   \n",
      "Cleric        False      False         False         False    True     False   \n",
      "Fighter        True      False         False         False   False     False   \n",
      "Wizard        False      False         False          True   False     False   \n",
      "Barbarian      True      False          True         False   False     False   \n",
      "Rogue         False       True         False         False   False     False   \n",
      "Ranger        False       True         False         False   False     False   \n",
      "Monk          False       True         False         False   False     False   \n",
      "Paladin        True      False         False         False   False     False   \n",
      "Sorcerer      False      False         False         False   False      True   \n",
      "Warlock       False      False         False         False   False      True   \n",
      "Druid         False      False         False         False    True     False   \n",
      "Artificer     False      False         False          True   False     False   \n",
      "\n",
      "           Ranged  Melee  Spellcaster  Sneaky  Healing  Beginner  Hybrid  \n",
      "Bard         True  False         True   False     True      True   False  \n",
      "Cleric       True  False         True   False     True     False   False  \n",
      "Fighter      True   True        False   False    False      True    True  \n",
      "Wizard       True  False         True   False    False     False   False  \n",
      "Barbarian   False   True        False   False    False      True   False  \n",
      "Rogue        True   True        False    True    False     False    True  \n",
      "Ranger       True  False        False   False    False      True   False  \n",
      "Monk        False   True        False   False    False     False   False  \n",
      "Paladin     False   True        False   False     True     False   False  \n",
      "Sorcerer     True  False         True   False    False     False   False  \n",
      "Warlock      True  False         True   False    False     False   False  \n",
      "Druid        True  False         True   False     True     False   False  \n",
      "Artificer    True  False         True   False     True     False   False  \n"
     ]
    }
   ],
   "source": [
    "import pandas as pd\n",
    "\n",
    "df = pd.read_csv('ClassAttributes.csv', index_col=0)\n",
    "#bring in csv\n",
    "df = df.fillna(0)\n",
    "df = df.astype(bool)\n",
    "#print(df)\n",
    "\n",
    "df['Hybrid'] = ((df['Melee'] == True) & (df['Ranged'] == True))\n",
    "#add a column for hybrid\n",
    "\n",
    "print(df)\n",
    "#Final Dataframe Completed"
   ]
  },
  {
   "cell_type": "code",
   "execution_count": null,
   "id": "b0563e5e",
   "metadata": {},
   "outputs": [],
   "source": [
    "#actual code once given required specs\n",
    "#started with a simple list then turned to sets to help with duplicates smoother\n",
    "def possibilities(specs):\n",
    "    poss_classes = None\n",
    "    for spec in specs:\n",
    "        curr_matches = set(df[df[spec]].index)\n",
    "        \n",
    "        if poss_classes is None:\n",
    "            poss_classes = curr_matches\n",
    "        else:\n",
    "            poss_classes.intersection_update(curr_matches)\n",
    "    \n",
    "    print(poss_classes)\n",
    "    return poss_classes\n",
    "    #printing all of the possible classes with your specifications.\n"
   ]
  },
  {
   "cell_type": "code",
   "execution_count": 75,
   "id": "a44a0942",
   "metadata": {},
   "outputs": [
    {
     "data": {
      "application/vnd.jupyter.widget-view+json": {
       "model_id": "ac0439268fca441494118d59ad3ac936",
       "version_major": 2,
       "version_minor": 0
      },
      "text/plain": [
       "Checkbox(value=False, description='Beginner', indent=False)"
      ]
     },
     "metadata": {},
     "output_type": "display_data"
    },
    {
     "data": {
      "application/vnd.jupyter.widget-view+json": {
       "model_id": "ad9af9d276b046cf989c1c7996df6a9a",
       "version_major": 2,
       "version_minor": 0
      },
      "text/plain": [
       "Checkbox(value=False, description='Healing', indent=False)"
      ]
     },
     "metadata": {},
     "output_type": "display_data"
    },
    {
     "data": {
      "application/vnd.jupyter.widget-view+json": {
       "model_id": "bc9a6d61753c4b5890680f8832666057",
       "version_major": 2,
       "version_minor": 0
      },
      "text/plain": [
       "Checkbox(value=False, description='Sneaky', indent=False)"
      ]
     },
     "metadata": {},
     "output_type": "display_data"
    },
    {
     "data": {
      "application/vnd.jupyter.widget-view+json": {
       "model_id": "32dbda93889849488b6d40738dc8b2e5",
       "version_major": 2,
       "version_minor": 0
      },
      "text/plain": [
       "Checkbox(value=False, description='Spellcaster', indent=False)"
      ]
     },
     "metadata": {},
     "output_type": "display_data"
    },
    {
     "data": {
      "application/vnd.jupyter.widget-view+json": {
       "model_id": "5b2ce11c090e4feba0bdee72a0ebfdc5",
       "version_major": 2,
       "version_minor": 0
      },
      "text/plain": [
       "Checkbox(value=False, description='Hybrid', indent=False)"
      ]
     },
     "metadata": {},
     "output_type": "display_data"
    },
    {
     "data": {
      "application/vnd.jupyter.widget-view+json": {
       "model_id": "820353db2f50473488166aaed82fa215",
       "version_major": 2,
       "version_minor": 0
      },
      "text/plain": [
       "Checkbox(value=False, description='Melee', indent=False)"
      ]
     },
     "metadata": {},
     "output_type": "display_data"
    },
    {
     "data": {
      "application/vnd.jupyter.widget-view+json": {
       "model_id": "8aca0e926854449fad1c671d2aa7385d",
       "version_major": 2,
       "version_minor": 0
      },
      "text/plain": [
       "Checkbox(value=False, description='Ranged', indent=False)"
      ]
     },
     "metadata": {},
     "output_type": "display_data"
    },
    {
     "data": {
      "application/vnd.jupyter.widget-view+json": {
       "model_id": "919c651dfb2e42ebae54a8cb7ea54e1d",
       "version_major": 2,
       "version_minor": 0
      },
      "text/plain": [
       "Button(button_style='success', description='Submit', icon='check', style=ButtonStyle(), tooltip='Click to subm…"
      ]
     },
     "metadata": {},
     "output_type": "display_data"
    },
    {
     "name": "stdout",
     "output_type": "stream",
     "text": [
      "Beginner is required!\n",
      "Submitted!\n",
      "{'Barbarian', 'Ranger', 'Fighter', 'Bard'}\n"
     ]
    }
   ],
   "source": [
    "#Thought an interactive checkbox system would be a fun user interface tool, and I haven't used it before.\n",
    "import ipywidgets as widgets\n",
    "from IPython.display import display\n",
    "\n",
    "#Required version below\n",
    "beginner = widgets.Checkbox(\n",
    "    value=False,\n",
    "    description='Beginner',\n",
    "    disabled=False,\n",
    "    indent=False\n",
    ")\n",
    "healing = widgets.Checkbox(\n",
    "    value=False,\n",
    "    description='Healing',\n",
    "    disabled=False,\n",
    "    indent=False\n",
    ")\n",
    "sneaky = widgets.Checkbox(\n",
    "    value=False,\n",
    "    description='Sneaky',\n",
    "    disabled=False,\n",
    "    indent=False\n",
    ")\n",
    "spellcaster = widgets.Checkbox(\n",
    "    value=False,\n",
    "    description='Spellcaster',\n",
    "    disabled=False,\n",
    "    indent=False\n",
    ")\n",
    "hybrid = widgets.Checkbox(\n",
    "    value=False,\n",
    "    description='Hybrid',\n",
    "    disabled=False,\n",
    "    indent=False\n",
    ")\n",
    "melee = widgets.Checkbox(\n",
    "    value=False,\n",
    "    description='Melee',\n",
    "    disabled=False,\n",
    "    indent=False\n",
    ")\n",
    "ranged = widgets.Checkbox(\n",
    "    value=False,\n",
    "    description='Ranged',\n",
    "    disabled=False,\n",
    "    indent=False\n",
    ")\n",
    "specifications = []\n",
    "\n",
    "def on_checkbox_change(change):\n",
    "    if change['new']:  # When checked (True)\n",
    "        print(f\"{change['owner'].description} is required!\")\n",
    "        specifications.append(change['owner'].description)\n",
    "    else:  # When unchecked (False)\n",
    "        print(f\"{change['owner'].description} is no longer required!\")\n",
    "        specifications.remove(change['owner'].description)\n",
    "\n",
    "# Attach the functions to the checkboxes\n",
    "beginner.observe(on_checkbox_change, names='value')\n",
    "healing.observe(on_checkbox_change, names='value')\n",
    "sneaky.observe(on_checkbox_change, names='value')\n",
    "spellcaster.observe(on_checkbox_change, names='value')\n",
    "hybrid.observe(on_checkbox_change, names='value')\n",
    "melee.observe(on_checkbox_change, names='value')\n",
    "ranged.observe(on_checkbox_change, names='value')\n",
    "\n",
    "# Display the checkboxes\n",
    "display(beginner, healing, sneaky, spellcaster, hybrid, melee, ranged)\n",
    "\n",
    "\n",
    "submit = widgets.Button(\n",
    "    description=\"Submit\",\n",
    "    button_style=\"success\",\n",
    "    tooltip=\"Click to submit your specifications\",\n",
    "    icon=\"check\"  # Optional icon\n",
    ")\n",
    "\n",
    "# Define what happens when the button is clicked\n",
    "def on_button_click(b):\n",
    "    print(\"Submitted!\")\n",
    "    possibilities(specifications)\n",
    "\n",
    "# Attach the function to the button\n",
    "submit.on_click(on_button_click)\n",
    "\n",
    "# Display the button\n",
    "display(submit)\n"
   ]
  },
  {
   "cell_type": "markdown",
   "id": "5ee2f5bb",
   "metadata": {},
   "source": [
    "This project is still in progress, I want to add a system for wants instead of requirements."
   ]
  },
  {
   "cell_type": "code",
   "execution_count": null,
   "id": "4eabae1d",
   "metadata": {},
   "outputs": [],
   "source": []
  }
 ],
 "metadata": {
  "kernelspec": {
   "display_name": "Python 3 (ipykernel)",
   "language": "python",
   "name": "python3"
  },
  "language_info": {
   "codemirror_mode": {
    "name": "ipython",
    "version": 3
   },
   "file_extension": ".py",
   "mimetype": "text/x-python",
   "name": "python",
   "nbconvert_exporter": "python",
   "pygments_lexer": "ipython3",
   "version": "3.9.12"
  }
 },
 "nbformat": 4,
 "nbformat_minor": 5
}
